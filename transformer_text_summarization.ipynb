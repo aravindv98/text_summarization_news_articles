{
  "metadata": {
    "kernelspec": {
      "display_name": "Python 3",
      "name": "python3"
    },
    "language_info": {
      "name": "python",
      "version": "3.10.12",
      "mimetype": "text/x-python",
      "codemirror_mode": {
        "name": "ipython",
        "version": 3
      },
      "pygments_lexer": "ipython3",
      "nbconvert_exporter": "python",
      "file_extension": ".py"
    },
    "kaggle": {
      "accelerator": "gpu",
      "dataSources": [
        {
          "sourceId": 32267,
          "sourceType": "datasetVersion",
          "datasetId": 24984
        },
        {
          "sourceId": 791838,
          "sourceType": "datasetVersion",
          "datasetId": 1895
        }
      ],
      "dockerImageVersionId": 30627,
      "isInternetEnabled": true,
      "language": "python",
      "sourceType": "notebook",
      "isGpuEnabled": true
    },
    "colab": {
      "provenance": [],
      "gpuType": "V28",
      "name": "Transformer_NLP_v2.ipynb"
    },
    "accelerator": "TPU"
  },
  "nbformat_minor": 0,
  "nbformat": 4,
  "cells": [
    {
      "cell_type": "code",
      "source": [
        "import torch\n",
        "import torch.nn as nn\n",
        "import torch.nn.functional as F\n",
        "import torch.optim as optim\n",
        "from torch.utils.data import DataLoader, Dataset\n",
        "from torch.nn.utils.rnn import pad_sequence\n",
        "from spacy.tokenizer import Tokenizer\n",
        "from sklearn.model_selection import train_test_split\n",
        "import spacy\n",
        "import pandas as pd\n",
        "import numpy as np\n",
        "import os\n",
        "import re\n",
        "from nltk.corpus import stopwords\n",
        "import random\n",
        "from tqdm import tqdm\n",
        "import math"
      ],
      "metadata": {
        "_uuid": "700b5c85-a22a-47ad-8947-8134630ac7ac",
        "_cell_guid": "2d247599-aee8-4a80-aac1-91428e1abbd4",
        "jupyter": {
          "outputs_hidden": false
        },
        "execution": {
          "iopub.status.busy": "2024-02-23T10:57:25.81088Z",
          "iopub.execute_input": "2024-02-23T10:57:25.811228Z",
          "iopub.status.idle": "2024-02-23T10:57:34.166846Z",
          "shell.execute_reply.started": "2024-02-23T10:57:25.811201Z",
          "shell.execute_reply": "2024-02-23T10:57:34.165827Z"
        },
        "trusted": true,
        "id": "7OK-N2DRPO2x"
      },
      "execution_count": null,
      "outputs": []
    },
    {
      "cell_type": "code",
      "source": [
        "nlp = spacy.load(\"en_core_web_sm\")\n",
        "tokenizer = Tokenizer(nlp.vocab)"
      ],
      "metadata": {
        "_uuid": "b95b47d9-0858-4411-a24e-8c61e0fc5f2f",
        "_cell_guid": "067027eb-375c-4c6f-b9fc-5cd9c4cb3b32",
        "jupyter": {
          "outputs_hidden": false
        },
        "execution": {
          "iopub.status.busy": "2024-02-23T10:57:34.168015Z",
          "iopub.execute_input": "2024-02-23T10:57:34.168495Z",
          "iopub.status.idle": "2024-02-23T10:57:35.682922Z",
          "shell.execute_reply.started": "2024-02-23T10:57:34.16847Z",
          "shell.execute_reply": "2024-02-23T10:57:35.681831Z"
        },
        "trusted": true,
        "id": "42J9co8wPO2y"
      },
      "execution_count": null,
      "outputs": []
    },
    {
      "cell_type": "code",
      "source": [
        "import kagglehub\n",
        "\n",
        "path = kagglehub.dataset_download(\"gowrishankarp/newspaper-text-summarization-cnn-dailymail\")\n",
        "\n",
        "print(\"Path to dataset files:\", path)"
      ],
      "metadata": {
        "_uuid": "46f6b582-9775-46c2-96b6-86b3090e02a8",
        "_cell_guid": "bc809679-bab7-4df3-a1ff-393f439c69ba",
        "jupyter": {
          "outputs_hidden": false
        },
        "execution": {
          "iopub.status.busy": "2024-02-23T10:57:35.708453Z",
          "iopub.execute_input": "2024-02-23T10:57:35.708828Z",
          "iopub.status.idle": "2024-02-23T10:57:59.229205Z",
          "shell.execute_reply.started": "2024-02-23T10:57:35.708794Z",
          "shell.execute_reply": "2024-02-23T10:57:59.228214Z"
        },
        "trusted": true,
        "id": "ftS8yQLTPO2y",
        "outputId": "21c3744a-268d-43c5-f597-c3296e23ca63",
        "colab": {
          "base_uri": "https://localhost:8080/"
        },
        "executionInfo": {
          "status": "ok",
          "timestamp": 1733887313051,
          "user_tz": 300,
          "elapsed": 17907,
          "user": {
            "displayName": "",
            "userId": ""
          }
        }
      },
      "execution_count": null,
      "outputs": [
        {
          "output_type": "stream",
          "name": "stdout",
          "text": [
            "Downloading from https://www.kaggle.com/api/v1/datasets/download/gowrishankarp/newspaper-text-summarization-cnn-dailymail?dataset_version_number=2...\n"
          ]
        },
        {
          "output_type": "stream",
          "name": "stderr",
          "text": [
            "100%|██████████| 503M/503M [00:04<00:00, 125MB/s]"
          ]
        },
        {
          "output_type": "stream",
          "name": "stdout",
          "text": [
            "Extracting files...\n"
          ]
        },
        {
          "output_type": "stream",
          "name": "stderr",
          "text": [
            "\n"
          ]
        },
        {
          "output_type": "stream",
          "name": "stdout",
          "text": [
            "Path to dataset files: /root/.cache/kagglehub/datasets/gowrishankarp/newspaper-text-summarization-cnn-dailymail/versions/2\n"
          ]
        }
      ]
    },
    {
      "cell_type": "code",
      "source": [
        "model_name = 'text_summarization'\n",
        "\n",
        "data_frame = pd.read_csv(f\"/root/.cache/kagglehub/datasets/gowrishankarp/newspaper-text-summarization-cnn-dailymail/versions/2/cnn_dailymail/train.csv\")\n",
        "train_data_frame = pd.read_csv(f\"/root/.cache/kagglehub/datasets/gowrishankarp/newspaper-text-summarization-cnn-dailymail/versions/2/cnn_dailymail/test.csv\")\n",
        "val_data_frame = pd.read_csv(f\"/root/.cache/kagglehub/datasets/gowrishankarp/newspaper-text-summarization-cnn-dailymail/versions/2/cnn_dailymail/validation.csv\")\n",
        "print(\"Dataset loaded successfully.\")\n",
        "\n",
        "\n",
        "data_frame.dropna(inplace=True)\n",
        "train_data_frame.dropna(inplace=True)\n",
        "val_data_frame.dropna(inplace=True)"
      ],
      "metadata": {
        "id": "uDvZNS0ZPsgD",
        "outputId": "363d577f-ca13-4e64-e713-d9358ac11a09",
        "colab": {
          "base_uri": "https://localhost:8080/"
        },
        "executionInfo": {
          "status": "ok",
          "timestamp": 1733887332609,
          "user_tz": 300,
          "elapsed": 19563,
          "user": {
            "displayName": "",
            "userId": ""
          }
        }
      },
      "execution_count": null,
      "outputs": [
        {
          "output_type": "stream",
          "name": "stdout",
          "text": [
            "Dataset loaded successfully.\n"
          ]
        }
      ]
    },
    {
      "cell_type": "code",
      "source": [
        "data_frame_sampled = data_frame.sample(frac=0.2, random_state=42)\n",
        "data_frame_sampled = data_frame_sampled.rename(columns = {\"article\":\"source_text\",\"highlights\":\"summary_text\"})\n",
        "X,Y = data_frame_sampled[\"source_text\"],data_frame_sampled[\"summary_text\"]\n",
        "X_train, X_test, Y_train, Y_test = train_test_split(X, Y, test_size=0.2, random_state=42)\n",
        "train_df = pd.DataFrame({'source_text': X_train, 'summary_text': Y_train})\n",
        "test_df = pd.DataFrame({'source_text': X_test, 'summary_text': Y_test})"
      ],
      "metadata": {
        "_uuid": "be69aa76-4e10-485c-993a-2916f7e049fc",
        "_cell_guid": "5006b05a-9dd6-4057-9029-93da701eae37",
        "jupyter": {
          "outputs_hidden": false
        },
        "execution": {
          "iopub.status.busy": "2024-02-23T10:57:59.237811Z",
          "iopub.execute_input": "2024-02-23T10:57:59.238167Z",
          "iopub.status.idle": "2024-02-23T10:57:59.260694Z",
          "shell.execute_reply.started": "2024-02-23T10:57:59.23814Z",
          "shell.execute_reply": "2024-02-23T10:57:59.259605Z"
        },
        "trusted": true,
        "id": "bR3erRq3PO2z"
      },
      "execution_count": null,
      "outputs": []
    },
    {
      "cell_type": "code",
      "source": [
        "import nltk\n",
        "nltk.download('stopwords')\n",
        "\n",
        "c_map = {\"ain't\": \"is not\", \"aren't\": \"are not\",\"can't\": \"cannot\", \"'cause\": \"because\", \"could've\": \"could have\", \"couldn't\": \"could not\",\n",
        "\n",
        "                           \"didn't\": \"did not\", \"doesn't\": \"does not\", \"don't\": \"do not\", \"hadn't\": \"had not\", \"hasn't\": \"has not\", \"haven't\": \"have not\",\n",
        "\n",
        "                           \"he'd\": \"he would\",\"he'll\": \"he will\", \"he's\": \"he is\", \"how'd\": \"how did\", \"how'd'y\": \"how do you\", \"how'll\": \"how will\", \"how's\": \"how is\",\n",
        "\n",
        "                           \"I'd\": \"I would\", \"I'd've\": \"I would have\", \"I'll\": \"I will\", \"I'll've\": \"I will have\",\"I'm\": \"I am\", \"I've\": \"I have\", \"i'd\": \"i would\",\n",
        "\n",
        "                           \"i'd've\": \"i would have\", \"i'll\": \"i will\",  \"i'll've\": \"i will have\",\"i'm\": \"i am\", \"i've\": \"i have\", \"isn't\": \"is not\", \"it'd\": \"it would\",\n",
        "\n",
        "                           \"it'd've\": \"it would have\", \"it'll\": \"it will\", \"it'll've\": \"it will have\",\"it's\": \"it is\", \"let's\": \"let us\", \"ma'am\": \"madam\",\n",
        "\n",
        "                           \"mayn't\": \"may not\", \"might've\": \"might have\",\"mightn't\": \"might not\",\"mightn't've\": \"might not have\", \"must've\": \"must have\",\n",
        "\n",
        "                           \"mustn't\": \"must not\", \"mustn't've\": \"must not have\", \"needn't\": \"need not\", \"needn't've\": \"need not have\",\"o'clock\": \"of the clock\",\n",
        "\n",
        "                           \"oughtn't\": \"ought not\", \"oughtn't've\": \"ought not have\", \"shan't\": \"shall not\", \"sha'n't\": \"shall not\", \"shan't've\": \"shall not have\",\n",
        "\n",
        "                           \"she'd\": \"she would\", \"she'd've\": \"she would have\", \"she'll\": \"she will\", \"she'll've\": \"she will have\", \"she's\": \"she is\",\n",
        "\n",
        "                           \"should've\": \"should have\", \"shouldn't\": \"should not\", \"shouldn't've\": \"should not have\", \"so've\": \"so have\",\"so's\": \"so as\",\n",
        "\n",
        "                           \"this's\": \"this is\",\"that'd\": \"that would\", \"that'd've\": \"that would have\", \"that's\": \"that is\", \"there'd\": \"there would\",\n",
        "\n",
        "                           \"there'd've\": \"there would have\", \"there's\": \"there is\", \"here's\": \"here is\",\"they'd\": \"they would\", \"they'd've\": \"they would have\",\n",
        "\n",
        "                           \"they'll\": \"they will\", \"they'll've\": \"they will have\", \"they're\": \"they are\", \"they've\": \"they have\", \"to've\": \"to have\",\n",
        "\n",
        "                           \"wasn't\": \"was not\", \"we'd\": \"we would\", \"we'd've\": \"we would have\", \"we'll\": \"we will\", \"we'll've\": \"we will have\", \"we're\": \"we are\",\n",
        "\n",
        "                           \"we've\": \"we have\", \"weren't\": \"were not\", \"what'll\": \"what will\", \"what'll've\": \"what will have\", \"what're\": \"what are\",\n",
        "\n",
        "                           \"what's\": \"what is\", \"what've\": \"what have\", \"when's\": \"when is\", \"when've\": \"when have\", \"where'd\": \"where did\", \"where's\": \"where is\",\n",
        "\n",
        "                           \"where've\": \"where have\", \"who'll\": \"who will\", \"who'll've\": \"who will have\", \"who's\": \"who is\", \"who've\": \"who have\",\n",
        "\n",
        "                           \"why's\": \"why is\", \"why've\": \"why have\", \"will've\": \"will have\", \"won't\": \"will not\", \"won't've\": \"will not have\",\n",
        "\n",
        "                           \"would've\": \"would have\", \"wouldn't\": \"would not\", \"wouldn't've\": \"would not have\", \"y'all\": \"you all\",\n",
        "\n",
        "                           \"y'all'd\": \"you all would\",\"y'all'd've\": \"you all would have\",\"y'all're\": \"you all are\",\"y'all've\": \"you all have\",\n",
        "\n",
        "                           \"you'd\": \"you would\", \"you'd've\": \"you would have\", \"you'll\": \"you will\", \"you'll've\": \"you will have\",\n",
        "\n",
        "                           \"you're\": \"you are\", \"you've\": \"you have\"}\n",
        "\n",
        "\n",
        "s_words = set(stopwords.words('english'))"
      ],
      "metadata": {
        "_uuid": "6483dce4-6451-45f0-abe2-920d83ffe252",
        "_cell_guid": "1dcb9b05-c8bd-440b-aaff-f2d18e303e26",
        "jupyter": {
          "outputs_hidden": false
        },
        "execution": {
          "iopub.status.busy": "2024-02-23T10:57:59.262111Z",
          "iopub.execute_input": "2024-02-23T10:57:59.262446Z",
          "iopub.status.idle": "2024-02-23T10:57:59.284116Z",
          "shell.execute_reply.started": "2024-02-23T10:57:59.262421Z",
          "shell.execute_reply": "2024-02-23T10:57:59.28324Z"
        },
        "trusted": true,
        "id": "2yabuD1ePO2z",
        "outputId": "1c0586ed-6845-492e-e3fc-168a92c6de57",
        "colab": {
          "base_uri": "https://localhost:8080/"
        },
        "executionInfo": {
          "status": "ok",
          "timestamp": 1733887332792,
          "user_tz": 300,
          "elapsed": 192,
          "user": {
            "displayName": "",
            "userId": ""
          }
        }
      },
      "execution_count": null,
      "outputs": [
        {
          "output_type": "stream",
          "name": "stderr",
          "text": [
            "[nltk_data] Downloading package stopwords to /root/nltk_data...\n",
            "[nltk_data]   Unzipping corpora/stopwords.zip.\n"
          ]
        }
      ]
    },
    {
      "cell_type": "code",
      "source": [
        "def text_c(text):\n",
        "    newS = text.lower()\n",
        "    newS = newS.replace('\"', \"'\")\n",
        "    newS = re.sub(r'\\([^)]*\\)', '', newS)\n",
        "    newS = re.sub('\"','', newS)\n",
        "    newS = ' '.join([c_map[t] if t in c_map else t for t in newS.split(\" \")])\n",
        "    newS = re.sub(r\"'s\\b\",\"\",newS)\n",
        "    newS = re.sub(\"[^a-zA-Z]\", \" \", newS)\n",
        "    t = [w for w in newS.split() if not w in s_words]\n",
        "    return \" \".join(t)"
      ],
      "metadata": {
        "_uuid": "42d338b4-69d5-4f5a-9a96-6104b23f276f",
        "_cell_guid": "99fa5612-c457-4ffe-b7f9-812d3a5b6a99",
        "jupyter": {
          "outputs_hidden": false
        },
        "execution": {
          "iopub.status.busy": "2024-02-23T10:57:59.289115Z",
          "iopub.execute_input": "2024-02-23T10:57:59.289466Z",
          "iopub.status.idle": "2024-02-23T10:57:59.297288Z",
          "shell.execute_reply.started": "2024-02-23T10:57:59.289436Z",
          "shell.execute_reply": "2024-02-23T10:57:59.296417Z"
        },
        "trusted": true,
        "id": "Ls_Mj_gDPO2z"
      },
      "execution_count": null,
      "outputs": []
    },
    {
      "cell_type": "code",
      "source": [
        "train_df['source_text'] = train_df['source_text'].apply(lambda x: [token.text.lower() for token in tokenizer(text_c(x))])\n",
        "train_df['summary_text'] = train_df['summary_text'].apply(lambda x: [token.text.lower() for token in tokenizer(text_c(x))])\n",
        "\n",
        "test_df['source_text'] = test_df['source_text'].apply(lambda x: [token.text.lower() for token in tokenizer(text_c(x))])\n",
        "test_df['summary_text'] = test_df['summary_text'].apply(lambda x: [token.text.lower() for token in tokenizer(text_c(x))])"
      ],
      "metadata": {
        "_uuid": "c9c39fa0-fd53-4662-9113-e318e0f0e6c9",
        "_cell_guid": "c6473982-99f3-40ce-be76-3f80bf0089a8",
        "jupyter": {
          "outputs_hidden": false
        },
        "execution": {
          "iopub.status.busy": "2024-02-23T10:57:59.298553Z",
          "iopub.execute_input": "2024-02-23T10:57:59.298877Z",
          "iopub.status.idle": "2024-02-23T10:58:03.739039Z",
          "shell.execute_reply.started": "2024-02-23T10:57:59.298851Z",
          "shell.execute_reply": "2024-02-23T10:58:03.737994Z"
        },
        "trusted": true,
        "id": "08c4mDUsPO20"
      },
      "execution_count": null,
      "outputs": []
    },
    {
      "cell_type": "code",
      "source": [
        "train_df['source_text'] = train_df['source_text'].apply(lambda x : ['_START_']+ x + ['_END_'])\n",
        "train_df['summary_text'] = train_df['summary_text'].apply(lambda x : ['_START_']+ x + ['_END_'])\n",
        "\n",
        "test_df['source_text'] = test_df['source_text'].apply(lambda x : ['_START_']+ x + ['_END_'])\n",
        "test_df['summary_text'] = test_df['summary_text'].apply(lambda x : ['_START_']+ x + ['_END_'])"
      ],
      "metadata": {
        "_uuid": "1abca708-aaf8-48f8-87ed-92cadf8fcecb",
        "_cell_guid": "9f56dd7d-bd32-464f-9ea7-ff58173993a2",
        "jupyter": {
          "outputs_hidden": false
        },
        "execution": {
          "iopub.status.busy": "2024-02-23T10:58:03.740434Z",
          "iopub.execute_input": "2024-02-23T10:58:03.740811Z",
          "iopub.status.idle": "2024-02-23T10:58:03.782857Z",
          "shell.execute_reply.started": "2024-02-23T10:58:03.740776Z",
          "shell.execute_reply": "2024-02-23T10:58:03.781846Z"
        },
        "trusted": true,
        "id": "OWd4ftfbPO20"
      },
      "execution_count": null,
      "outputs": []
    },
    {
      "cell_type": "code",
      "source": [
        "train_df.head()"
      ],
      "metadata": {
        "_uuid": "35758d71-f295-4443-ac0b-966d8529dd2c",
        "_cell_guid": "e00823a4-42ba-49d4-ba30-25c124ab9900",
        "jupyter": {
          "outputs_hidden": false
        },
        "execution": {
          "iopub.status.busy": "2024-02-23T10:58:03.783965Z",
          "iopub.execute_input": "2024-02-23T10:58:03.784281Z",
          "iopub.status.idle": "2024-02-23T10:58:03.810447Z",
          "shell.execute_reply.started": "2024-02-23T10:58:03.784255Z",
          "shell.execute_reply": "2024-02-23T10:58:03.809422Z"
        },
        "trusted": true,
        "id": "VXOCYBzbPO20",
        "colab": {
          "base_uri": "https://localhost:8080/",
          "height": 293
        },
        "outputId": "1968f7ff-d1d1-42af-854b-0db24be736ef",
        "executionInfo": {
          "status": "ok",
          "timestamp": 1733887374239,
          "user_tz": 300,
          "elapsed": 23,
          "user": {
            "displayName": "",
            "userId": ""
          }
        }
      },
      "execution_count": null,
      "outputs": [
        {
          "output_type": "execute_result",
          "data": {
            "text/plain": [
              "                                              source_text  \\\n",
              "282591  [_START_, former, high, school, football, capt...   \n",
              "153008  [_START_, london, european, leaders, recently,...   \n",
              "134303  [_START_, saudi, king, abdullah, appointed, wo...   \n",
              "56541   [_START_, amiable, discussions, greenfly, comp...   \n",
              "21244   [_START_, personal, trainer, kept, photo, diar...   \n",
              "\n",
              "                                             summary_text  \n",
              "282591  [_START_, cameron, clarkson, attended, catholi...  \n",
              "153008  [_START_, fiscal, compact, lays, tighter, fina...  \n",
              "134303  [_START_, saudi, king, abdullah, appoints, wom...  \n",
              "56541   [_START_, dr, ben, pitcher, claims, bbc, radio...  \n",
              "21244   [_START_, leanne, grace, inspired, met, former...  "
            ],
            "text/html": [
              "\n",
              "  <div id=\"df-18b7f882-5e38-4722-bbd6-ac0e12c6cd00\" class=\"colab-df-container\">\n",
              "    <div>\n",
              "<style scoped>\n",
              "    .dataframe tbody tr th:only-of-type {\n",
              "        vertical-align: middle;\n",
              "    }\n",
              "\n",
              "    .dataframe tbody tr th {\n",
              "        vertical-align: top;\n",
              "    }\n",
              "\n",
              "    .dataframe thead th {\n",
              "        text-align: right;\n",
              "    }\n",
              "</style>\n",
              "<table border=\"1\" class=\"dataframe\">\n",
              "  <thead>\n",
              "    <tr style=\"text-align: right;\">\n",
              "      <th></th>\n",
              "      <th>source_text</th>\n",
              "      <th>summary_text</th>\n",
              "    </tr>\n",
              "  </thead>\n",
              "  <tbody>\n",
              "    <tr>\n",
              "      <th>282591</th>\n",
              "      <td>[_START_, former, high, school, football, capt...</td>\n",
              "      <td>[_START_, cameron, clarkson, attended, catholi...</td>\n",
              "    </tr>\n",
              "    <tr>\n",
              "      <th>153008</th>\n",
              "      <td>[_START_, london, european, leaders, recently,...</td>\n",
              "      <td>[_START_, fiscal, compact, lays, tighter, fina...</td>\n",
              "    </tr>\n",
              "    <tr>\n",
              "      <th>134303</th>\n",
              "      <td>[_START_, saudi, king, abdullah, appointed, wo...</td>\n",
              "      <td>[_START_, saudi, king, abdullah, appoints, wom...</td>\n",
              "    </tr>\n",
              "    <tr>\n",
              "      <th>56541</th>\n",
              "      <td>[_START_, amiable, discussions, greenfly, comp...</td>\n",
              "      <td>[_START_, dr, ben, pitcher, claims, bbc, radio...</td>\n",
              "    </tr>\n",
              "    <tr>\n",
              "      <th>21244</th>\n",
              "      <td>[_START_, personal, trainer, kept, photo, diar...</td>\n",
              "      <td>[_START_, leanne, grace, inspired, met, former...</td>\n",
              "    </tr>\n",
              "  </tbody>\n",
              "</table>\n",
              "</div>\n",
              "    <div class=\"colab-df-buttons\">\n",
              "\n",
              "  <div class=\"colab-df-container\">\n",
              "    <button class=\"colab-df-convert\" onclick=\"convertToInteractive('df-18b7f882-5e38-4722-bbd6-ac0e12c6cd00')\"\n",
              "            title=\"Convert this dataframe to an interactive table.\"\n",
              "            style=\"display:none;\">\n",
              "\n",
              "  <svg xmlns=\"http://www.w3.org/2000/svg\" height=\"24px\" viewBox=\"0 -960 960 960\">\n",
              "    <path d=\"M120-120v-720h720v720H120Zm60-500h600v-160H180v160Zm220 220h160v-160H400v160Zm0 220h160v-160H400v160ZM180-400h160v-160H180v160Zm440 0h160v-160H620v160ZM180-180h160v-160H180v160Zm440 0h160v-160H620v160Z\"/>\n",
              "  </svg>\n",
              "    </button>\n",
              "\n",
              "  <style>\n",
              "    .colab-df-container {\n",
              "      display:flex;\n",
              "      gap: 12px;\n",
              "    }\n",
              "\n",
              "    .colab-df-convert {\n",
              "      background-color: #E8F0FE;\n",
              "      border: none;\n",
              "      border-radius: 50%;\n",
              "      cursor: pointer;\n",
              "      display: none;\n",
              "      fill: #1967D2;\n",
              "      height: 32px;\n",
              "      padding: 0 0 0 0;\n",
              "      width: 32px;\n",
              "    }\n",
              "\n",
              "    .colab-df-convert:hover {\n",
              "      background-color: #E2EBFA;\n",
              "      box-shadow: 0px 1px 2px rgba(60, 64, 67, 0.3), 0px 1px 3px 1px rgba(60, 64, 67, 0.15);\n",
              "      fill: #174EA6;\n",
              "    }\n",
              "\n",
              "    .colab-df-buttons div {\n",
              "      margin-bottom: 4px;\n",
              "    }\n",
              "\n",
              "    [theme=dark] .colab-df-convert {\n",
              "      background-color: #3B4455;\n",
              "      fill: #D2E3FC;\n",
              "    }\n",
              "\n",
              "    [theme=dark] .colab-df-convert:hover {\n",
              "      background-color: #434B5C;\n",
              "      box-shadow: 0px 1px 3px 1px rgba(0, 0, 0, 0.15);\n",
              "      filter: drop-shadow(0px 1px 2px rgba(0, 0, 0, 0.3));\n",
              "      fill: #FFFFFF;\n",
              "    }\n",
              "  </style>\n",
              "\n",
              "    <script>\n",
              "      const buttonEl =\n",
              "        document.querySelector('#df-18b7f882-5e38-4722-bbd6-ac0e12c6cd00 button.colab-df-convert');\n",
              "      buttonEl.style.display =\n",
              "        google.colab.kernel.accessAllowed ? 'block' : 'none';\n",
              "\n",
              "      async function convertToInteractive(key) {\n",
              "        const element = document.querySelector('#df-18b7f882-5e38-4722-bbd6-ac0e12c6cd00');\n",
              "        const dataTable =\n",
              "          await google.colab.kernel.invokeFunction('convertToInteractive',\n",
              "                                                    [key], {});\n",
              "        if (!dataTable) return;\n",
              "\n",
              "        const docLinkHtml = 'Like what you see? Visit the ' +\n",
              "          '<a target=\"_blank\" href=https://colab.research.google.com/notebooks/data_table.ipynb>data table notebook</a>'\n",
              "          + ' to learn more about interactive tables.';\n",
              "        element.innerHTML = '';\n",
              "        dataTable['output_type'] = 'display_data';\n",
              "        await google.colab.output.renderOutput(dataTable, element);\n",
              "        const docLink = document.createElement('div');\n",
              "        docLink.innerHTML = docLinkHtml;\n",
              "        element.appendChild(docLink);\n",
              "      }\n",
              "    </script>\n",
              "  </div>\n",
              "\n",
              "\n",
              "<div id=\"df-4a05e057-20c1-4b6d-90d1-0e4199706c6b\">\n",
              "  <button class=\"colab-df-quickchart\" onclick=\"quickchart('df-4a05e057-20c1-4b6d-90d1-0e4199706c6b')\"\n",
              "            title=\"Suggest charts\"\n",
              "            style=\"display:none;\">\n",
              "\n",
              "<svg xmlns=\"http://www.w3.org/2000/svg\" height=\"24px\"viewBox=\"0 0 24 24\"\n",
              "     width=\"24px\">\n",
              "    <g>\n",
              "        <path d=\"M19 3H5c-1.1 0-2 .9-2 2v14c0 1.1.9 2 2 2h14c1.1 0 2-.9 2-2V5c0-1.1-.9-2-2-2zM9 17H7v-7h2v7zm4 0h-2V7h2v10zm4 0h-2v-4h2v4z\"/>\n",
              "    </g>\n",
              "</svg>\n",
              "  </button>\n",
              "\n",
              "<style>\n",
              "  .colab-df-quickchart {\n",
              "      --bg-color: #E8F0FE;\n",
              "      --fill-color: #1967D2;\n",
              "      --hover-bg-color: #E2EBFA;\n",
              "      --hover-fill-color: #174EA6;\n",
              "      --disabled-fill-color: #AAA;\n",
              "      --disabled-bg-color: #DDD;\n",
              "  }\n",
              "\n",
              "  [theme=dark] .colab-df-quickchart {\n",
              "      --bg-color: #3B4455;\n",
              "      --fill-color: #D2E3FC;\n",
              "      --hover-bg-color: #434B5C;\n",
              "      --hover-fill-color: #FFFFFF;\n",
              "      --disabled-bg-color: #3B4455;\n",
              "      --disabled-fill-color: #666;\n",
              "  }\n",
              "\n",
              "  .colab-df-quickchart {\n",
              "    background-color: var(--bg-color);\n",
              "    border: none;\n",
              "    border-radius: 50%;\n",
              "    cursor: pointer;\n",
              "    display: none;\n",
              "    fill: var(--fill-color);\n",
              "    height: 32px;\n",
              "    padding: 0;\n",
              "    width: 32px;\n",
              "  }\n",
              "\n",
              "  .colab-df-quickchart:hover {\n",
              "    background-color: var(--hover-bg-color);\n",
              "    box-shadow: 0 1px 2px rgba(60, 64, 67, 0.3), 0 1px 3px 1px rgba(60, 64, 67, 0.15);\n",
              "    fill: var(--button-hover-fill-color);\n",
              "  }\n",
              "\n",
              "  .colab-df-quickchart-complete:disabled,\n",
              "  .colab-df-quickchart-complete:disabled:hover {\n",
              "    background-color: var(--disabled-bg-color);\n",
              "    fill: var(--disabled-fill-color);\n",
              "    box-shadow: none;\n",
              "  }\n",
              "\n",
              "  .colab-df-spinner {\n",
              "    border: 2px solid var(--fill-color);\n",
              "    border-color: transparent;\n",
              "    border-bottom-color: var(--fill-color);\n",
              "    animation:\n",
              "      spin 1s steps(1) infinite;\n",
              "  }\n",
              "\n",
              "  @keyframes spin {\n",
              "    0% {\n",
              "      border-color: transparent;\n",
              "      border-bottom-color: var(--fill-color);\n",
              "      border-left-color: var(--fill-color);\n",
              "    }\n",
              "    20% {\n",
              "      border-color: transparent;\n",
              "      border-left-color: var(--fill-color);\n",
              "      border-top-color: var(--fill-color);\n",
              "    }\n",
              "    30% {\n",
              "      border-color: transparent;\n",
              "      border-left-color: var(--fill-color);\n",
              "      border-top-color: var(--fill-color);\n",
              "      border-right-color: var(--fill-color);\n",
              "    }\n",
              "    40% {\n",
              "      border-color: transparent;\n",
              "      border-right-color: var(--fill-color);\n",
              "      border-top-color: var(--fill-color);\n",
              "    }\n",
              "    60% {\n",
              "      border-color: transparent;\n",
              "      border-right-color: var(--fill-color);\n",
              "    }\n",
              "    80% {\n",
              "      border-color: transparent;\n",
              "      border-right-color: var(--fill-color);\n",
              "      border-bottom-color: var(--fill-color);\n",
              "    }\n",
              "    90% {\n",
              "      border-color: transparent;\n",
              "      border-bottom-color: var(--fill-color);\n",
              "    }\n",
              "  }\n",
              "</style>\n",
              "\n",
              "  <script>\n",
              "    async function quickchart(key) {\n",
              "      const quickchartButtonEl =\n",
              "        document.querySelector('#' + key + ' button');\n",
              "      quickchartButtonEl.disabled = true;  // To prevent multiple clicks.\n",
              "      quickchartButtonEl.classList.add('colab-df-spinner');\n",
              "      try {\n",
              "        const charts = await google.colab.kernel.invokeFunction(\n",
              "            'suggestCharts', [key], {});\n",
              "      } catch (error) {\n",
              "        console.error('Error during call to suggestCharts:', error);\n",
              "      }\n",
              "      quickchartButtonEl.classList.remove('colab-df-spinner');\n",
              "      quickchartButtonEl.classList.add('colab-df-quickchart-complete');\n",
              "    }\n",
              "    (() => {\n",
              "      let quickchartButtonEl =\n",
              "        document.querySelector('#df-4a05e057-20c1-4b6d-90d1-0e4199706c6b button');\n",
              "      quickchartButtonEl.style.display =\n",
              "        google.colab.kernel.accessAllowed ? 'block' : 'none';\n",
              "    })();\n",
              "  </script>\n",
              "</div>\n",
              "    </div>\n",
              "  </div>\n"
            ]
          },
          "metadata": {},
          "execution_count": 13
        }
      ]
    },
    {
      "cell_type": "code",
      "source": [
        "a_tokens = train_df['source_text'].tolist() + train_df['summary_text'].tolist() + test_df['source_text'].tolist() + test_df['summary_text'].tolist()\n",
        "source_vocab = {actual_word: idx for idx, (word_num, actual_word) in enumerate(sorted(enumerate(set(token for tokens in a_tokens for token in tokens)), key=lambda x: x[1]))}\n",
        "target_vocab = {actual_word: idx for idx, (word_num, actual_word) in enumerate(sorted(enumerate(set(token for tokens in a_tokens for token in tokens)), key=lambda x: x[1]))}"
      ],
      "metadata": {
        "execution": {
          "iopub.status.busy": "2024-02-23T10:58:03.811632Z",
          "iopub.execute_input": "2024-02-23T10:58:03.811935Z",
          "iopub.status.idle": "2024-02-23T10:58:04.099698Z",
          "shell.execute_reply.started": "2024-02-23T10:58:03.811909Z",
          "shell.execute_reply": "2024-02-23T10:58:04.098619Z"
        },
        "trusted": true,
        "id": "3M3sh5AjPO20"
      },
      "execution_count": null,
      "outputs": []
    },
    {
      "cell_type": "code",
      "source": [
        "import torch\n",
        "device = torch.device('cuda' if torch.cuda.is_available() else 'cpu')\n",
        "print(\"Using\",device)"
      ],
      "metadata": {
        "_uuid": "e93e303f-3d29-460d-a111-868ed90cc48b",
        "_cell_guid": "8cf18b62-d506-4f7d-b6bf-3bd4ad72e696",
        "jupyter": {
          "outputs_hidden": false
        },
        "execution": {
          "iopub.status.busy": "2024-02-23T10:58:04.100999Z",
          "iopub.execute_input": "2024-02-23T10:58:04.101348Z",
          "iopub.status.idle": "2024-02-23T10:58:04.107539Z",
          "shell.execute_reply.started": "2024-02-23T10:58:04.10132Z",
          "shell.execute_reply": "2024-02-23T10:58:04.106462Z"
        },
        "trusted": true,
        "id": "r2kgbHrNPO20",
        "colab": {
          "base_uri": "https://localhost:8080/"
        },
        "outputId": "e77a159e-3005-45f6-9378-1c2834edd560",
        "executionInfo": {
          "status": "ok",
          "timestamp": 1733887377188,
          "user_tz": 300,
          "elapsed": 20,
          "user": {
            "displayName": "",
            "userId": ""
          }
        }
      },
      "execution_count": null,
      "outputs": [
        {
          "output_type": "stream",
          "name": "stdout",
          "text": [
            "Using cpu\n"
          ]
        }
      ]
    },
    {
      "cell_type": "code",
      "source": [
        "tp = list(sorted(source_vocab.items()))\n",
        "for word, idx in tp[-5:]:\n",
        "    print(word,idx)"
      ],
      "metadata": {
        "execution": {
          "iopub.status.busy": "2024-02-23T10:58:04.108918Z",
          "iopub.execute_input": "2024-02-23T10:58:04.109274Z",
          "iopub.status.idle": "2024-02-23T10:58:04.132741Z",
          "shell.execute_reply.started": "2024-02-23T10:58:04.109246Z",
          "shell.execute_reply": "2024-02-23T10:58:04.131715Z"
        },
        "trusted": true,
        "id": "cz-76tC2PO21",
        "colab": {
          "base_uri": "https://localhost:8080/"
        },
        "outputId": "7158f536-959e-4a31-b10c-8f9bb57d7545",
        "executionInfo": {
          "status": "ok",
          "timestamp": 1733887377188,
          "user_tz": 300,
          "elapsed": 16,
          "user": {
            "displayName": "",
            "userId": ""
          }
        }
      },
      "execution_count": null,
      "outputs": [
        {
          "output_type": "stream",
          "name": "stdout",
          "text": [
            "zynga 105779\n",
            "zyrtec 105780\n",
            "zytek 105781\n",
            "zz 105782\n",
            "zzz 105783\n"
          ]
        }
      ]
    },
    {
      "cell_type": "code",
      "source": [
        "class CustomData(Dataset):\n",
        "    def __init__(self, source_texts, target_summaries, source_vocab, target_vocab):\n",
        "        self.source_texts = source_texts\n",
        "        self.target_summaries = target_summaries\n",
        "        self.source_vocab = source_vocab\n",
        "        self.target_vocab = target_vocab\n",
        "\n",
        "    def __len__(self):\n",
        "        return len(self.source_texts)\n",
        "\n",
        "    def __getitem__(self, idx):\n",
        "        source_text = [self.source_vocab[word] for word in self.source_texts[idx]]\n",
        "        target_summary = [self.target_vocab[word] for word in self.target_summaries[idx]]\n",
        "        return torch.tensor(source_text), torch.tensor(target_summary)"
      ],
      "metadata": {
        "_uuid": "6d7d5a8f-a1ad-4c2f-a21f-3e82823667ed",
        "_cell_guid": "46bd33d9-801b-46ed-96ec-2615e7c6fadf",
        "jupyter": {
          "outputs_hidden": false
        },
        "execution": {
          "iopub.status.busy": "2024-02-23T10:58:04.134071Z",
          "iopub.execute_input": "2024-02-23T10:58:04.134395Z",
          "iopub.status.idle": "2024-02-23T10:58:04.144124Z",
          "shell.execute_reply.started": "2024-02-23T10:58:04.134368Z",
          "shell.execute_reply": "2024-02-23T10:58:04.143083Z"
        },
        "trusted": true,
        "id": "xJamLsTlPO21"
      },
      "execution_count": null,
      "outputs": []
    },
    {
      "cell_type": "code",
      "source": [
        "train_dataset = CustomData(train_df['source_text'].tolist(), train_df['summary_text'].tolist(),source_vocab, target_vocab)\n",
        "test_dataset = CustomData(test_df['source_text'].tolist(), test_df['summary_text'].tolist(),source_vocab, target_vocab)"
      ],
      "metadata": {
        "_uuid": "d9b69a91-2f5e-4d36-a732-b6973369af63",
        "_cell_guid": "a54a744c-1146-4fbf-906e-bc6ca22c2e2e",
        "jupyter": {
          "outputs_hidden": false
        },
        "execution": {
          "iopub.status.busy": "2024-02-23T10:58:04.145378Z",
          "iopub.execute_input": "2024-02-23T10:58:04.145669Z",
          "iopub.status.idle": "2024-02-23T10:58:04.163882Z",
          "shell.execute_reply.started": "2024-02-23T10:58:04.145644Z",
          "shell.execute_reply": "2024-02-23T10:58:04.16287Z"
        },
        "trusted": true,
        "id": "OidFtg_FPO21"
      },
      "execution_count": null,
      "outputs": []
    },
    {
      "cell_type": "code",
      "source": [
        "def get_maxlen():\n",
        "    m_len = 0\n",
        "    for index, row in train_df.iterrows():\n",
        "        r_len = len(row['source_text'])\n",
        "        m_len = max(m_len, r_len)\n",
        "    for index, row in test_df.iterrows():\n",
        "        r_len = len(row['source_text'])\n",
        "        m_len = max(m_len, r_len)\n",
        "    print(\"Max length in dataset \",m_len)\n",
        "    return m_len"
      ],
      "metadata": {
        "execution": {
          "iopub.status.busy": "2024-02-23T10:58:04.178946Z",
          "iopub.execute_input": "2024-02-23T10:58:04.179279Z",
          "iopub.status.idle": "2024-02-23T10:58:04.191344Z",
          "shell.execute_reply.started": "2024-02-23T10:58:04.179254Z",
          "shell.execute_reply": "2024-02-23T10:58:04.190384Z"
        },
        "trusted": true,
        "id": "me-nf6UTPO21"
      },
      "execution_count": null,
      "outputs": []
    },
    {
      "cell_type": "markdown",
      "source": [
        "# Transformer Model"
      ],
      "metadata": {
        "id": "uTvUo83GQl_F"
      }
    },
    {
      "cell_type": "code",
      "source": [
        "def c_fn(batch):\n",
        "    sources, targets = zip(*batch)\n",
        "    padded_sources = pad_sequence(sources, batch_first=True)\n",
        "    padded_targets = pad_sequence(targets, batch_first=True)\n",
        "    return padded_sources, padded_targets"
      ],
      "metadata": {
        "_uuid": "2d5d8275-0ac4-49be-b58c-653b0b3bafb5",
        "_cell_guid": "043364db-8a6c-4b30-9690-870387393ff1",
        "jupyter": {
          "outputs_hidden": false
        },
        "execution": {
          "iopub.status.busy": "2024-02-23T10:58:04.214938Z",
          "iopub.execute_input": "2024-02-23T10:58:04.215243Z",
          "iopub.status.idle": "2024-02-23T10:58:04.230052Z",
          "shell.execute_reply.started": "2024-02-23T10:58:04.215219Z",
          "shell.execute_reply": "2024-02-23T10:58:04.229108Z"
        },
        "trusted": true,
        "id": "kZuoM6oKPO21"
      },
      "execution_count": null,
      "outputs": []
    },
    {
      "cell_type": "code",
      "source": [
        "class MultiHeadAttention(nn.Module):\n",
        "    def __init__(self, embedding_dim, num_heads):\n",
        "        super(MultiHeadAttention,self).__init__()\n",
        "        assert embedding_dim % num_heads == 0, \"embedding_dim must be divisible by num_heads\"\n",
        "\n",
        "        self.embedding_dim = embedding_dim\n",
        "        self.num_heads = num_heads\n",
        "        self.dim_perhead = embedding_dim // num_heads\n",
        "\n",
        "        self.W_q = nn.Linear(embedding_dim, embedding_dim)\n",
        "        self.W_k = nn.Linear(embedding_dim, embedding_dim)\n",
        "        self.W_v = nn.Linear(embedding_dim, embedding_dim)\n",
        "        self.W_o = nn.Linear(embedding_dim, embedding_dim)\n",
        "\n",
        "    def scaled_dot_product_attention(self,Q,K,V,mask=None):\n",
        "\n",
        "        K = K.transpose(-2,-1)\n",
        "        attn_scores = torch.matmul(Q,K) / math.sqrt(self.dim_perhead)\n",
        "        if mask is not None:\n",
        "            attn_scores = attn_scores.masked_fill(mask == 0, -1e9)\n",
        "        attn_probs = torch.softmax(attn_scores, dim=-1)\n",
        "        output = torch.matmul(attn_probs, V)\n",
        "        return output\n",
        "\n",
        "    def split_heads(self, x):\n",
        "        batch_size, seq_length, d_model = x.size()\n",
        "        x = x.view(batch_size, seq_length,self.num_heads,self.dim_perhead)\n",
        "        x = x.transpose(1,2)\n",
        "        return x\n",
        "\n",
        "    def combine_heads(self, x):\n",
        "        batch_size, _, seq_length, dim_perhead = x.size()\n",
        "        x = x.transpose(1,2).contiguous()\n",
        "        x = x.view(batch_size, seq_length,self.embedding_dim)\n",
        "        return x\n",
        "\n",
        "    def forward(self, Q, K, V, mask=None):\n",
        "        Q = self.split_heads(self.W_q(Q))\n",
        "        K = self.split_heads(self.W_k(K))\n",
        "        V = self.split_heads(self.W_v(V))\n",
        "        attn_output = self.scaled_dot_product_attention(Q, K, V, mask)\n",
        "        output = self.W_o(self.combine_heads(attn_output))\n",
        "        return output"
      ],
      "metadata": {
        "_uuid": "e701a107-dd0f-4b26-b071-56477bdea3e9",
        "_cell_guid": "d4b8085d-1cf1-41bd-ae8a-43883decf3f3",
        "jupyter": {
          "outputs_hidden": false
        },
        "execution": {
          "iopub.status.busy": "2024-02-23T10:58:04.231464Z",
          "iopub.execute_input": "2024-02-23T10:58:04.231867Z",
          "iopub.status.idle": "2024-02-23T10:58:04.257574Z",
          "shell.execute_reply.started": "2024-02-23T10:58:04.231831Z",
          "shell.execute_reply": "2024-02-23T10:58:04.256531Z"
        },
        "trusted": true,
        "id": "s5sb45L9PO22"
      },
      "execution_count": null,
      "outputs": []
    },
    {
      "cell_type": "code",
      "source": [
        "class PositionWiseFeedForward(nn.Module):\n",
        "    def __init__(self, d_model, d_ff):\n",
        "        super(PositionWiseFeedForward, self).__init__()\n",
        "        self.fc1 = nn.Linear(d_model, d_ff)\n",
        "        self.fc2 = nn.Linear(d_ff, d_model)\n",
        "\n",
        "    def forward(self, x):\n",
        "        return self.fc2(F.relu(self.fc1(x)))\n",
        "\n",
        "\n",
        "class PositionalEncoding(nn.Module):\n",
        "    def __init__(self, d_model, max_seq_length):\n",
        "        super(PositionalEncoding, self).__init__()\n",
        "\n",
        "        pe = torch.zeros(max_seq_length, d_model)\n",
        "        position = torch.arange(0, max_seq_length, dtype=torch.float).unsqueeze(1)\n",
        "        div_term = torch.exp(torch.arange(0, d_model, 2).float() * -(math.log(10000.0) / d_model))\n",
        "\n",
        "        pe[:, 0::2] = torch.sin(position * div_term)\n",
        "        pe[:, 1::2] = torch.cos(position * div_term)\n",
        "\n",
        "        self.register_buffer('pe', pe)\n",
        "\n",
        "    def forward(self, x):\n",
        "        seq_len = x.size(1)\n",
        "\n",
        "        if seq_len > self.pe.size(0):\n",
        "            self.pe = F.pad(self.pe, (0, 0, 0, seq_len - self.pe.size(0)))\n",
        "\n",
        "        pe = self.pe[:seq_len, :].unsqueeze(0).expand(x.size(0), -1, -1)\n",
        "\n",
        "        return x + pe"
      ],
      "metadata": {
        "execution": {
          "iopub.status.busy": "2024-02-23T10:58:04.258991Z",
          "iopub.execute_input": "2024-02-23T10:58:04.259728Z",
          "iopub.status.idle": "2024-02-23T10:58:04.279531Z",
          "shell.execute_reply.started": "2024-02-23T10:58:04.259685Z",
          "shell.execute_reply": "2024-02-23T10:58:04.278348Z"
        },
        "trusted": true,
        "id": "kZhXZIq1PO22"
      },
      "execution_count": null,
      "outputs": []
    },
    {
      "cell_type": "code",
      "source": [
        "class EncoderLayer(nn.Module):\n",
        "    def __init__(self, d_model, num_heads, d_ff, dropout):\n",
        "        super(EncoderLayer, self).__init__()\n",
        "        self.self_attn = MultiHeadAttention(d_model, num_heads)\n",
        "        self.feed_forward = PositionWiseFeedForward(d_model, d_ff)\n",
        "        self.norm1 = nn.LayerNorm(d_model)\n",
        "        self.norm2 = nn.LayerNorm(d_model)\n",
        "        self.dropout = nn.Dropout(dropout)\n",
        "\n",
        "    def forward(self, x, mask):\n",
        "        attn_output = self.self_attn(x, x, x,mask)\n",
        "        x = self.norm1(x + self.dropout(attn_output))\n",
        "        ff_output = self.feed_forward(x)\n",
        "        x = self.norm2(x + self.dropout(ff_output))\n",
        "        return x\n",
        "\n",
        "\n",
        "class DecoderLayer(nn.Module):\n",
        "    def __init__(self, d_model, num_heads, d_ff, dropout):\n",
        "        super(DecoderLayer, self).__init__()\n",
        "        self.self_attn = MultiHeadAttention(d_model, num_heads)\n",
        "        self.cross_attn = MultiHeadAttention(d_model, num_heads)\n",
        "        self.feed_forward = PositionWiseFeedForward(d_model, d_ff)\n",
        "        self.norm1 = nn.LayerNorm(d_model)\n",
        "        self.norm2 = nn.LayerNorm(d_model)\n",
        "        self.norm3 = nn.LayerNorm(d_model)\n",
        "        self.dropout = nn.Dropout(dropout)\n",
        "\n",
        "    def forward(self, x, enc_output, src_mask, tgt_mask):\n",
        "        attn_output = self.self_attn(x, x, x,tgt_mask)\n",
        "        x = self.norm1(x + self.dropout(attn_output))\n",
        "        attn_output = self.cross_attn(x,enc_output,enc_output,src_mask)\n",
        "        x = self.norm2(x + self.dropout(attn_output))\n",
        "        ff_output = self.feed_forward(x)\n",
        "        x = self.norm3(x + self.dropout(ff_output))\n",
        "        return x"
      ],
      "metadata": {
        "execution": {
          "iopub.status.busy": "2024-02-23T10:58:04.280991Z",
          "iopub.execute_input": "2024-02-23T10:58:04.281406Z",
          "iopub.status.idle": "2024-02-23T10:58:04.30359Z",
          "shell.execute_reply.started": "2024-02-23T10:58:04.281374Z",
          "shell.execute_reply": "2024-02-23T10:58:04.30252Z"
        },
        "trusted": true,
        "id": "2WLFj1jkPO22"
      },
      "execution_count": null,
      "outputs": []
    },
    {
      "cell_type": "code",
      "source": [
        "class Transformer(nn.Module):\n",
        "    def __init__(self, src_vocab_size, tgt_vocab_size, d_model, num_heads, num_layers, d_ff, max_seq_length, dropout):\n",
        "        super(Transformer, self).__init__()\n",
        "        self.encoder_embedding = nn.Embedding(src_vocab_size, d_model)\n",
        "        self.decoder_embedding = nn.Embedding(tgt_vocab_size, d_model)\n",
        "        self.positional_encoding = PositionalEncoding(d_model, max_seq_length)\n",
        "\n",
        "        self.encoder_layers = nn.ModuleList([EncoderLayer(d_model, num_heads, d_ff, dropout) for _ in range(num_layers)])\n",
        "        self.decoder_layers = nn.ModuleList([DecoderLayer(d_model, num_heads, d_ff, dropout) for _ in range(num_layers)])\n",
        "\n",
        "        self.fc = nn.Linear(d_model, tgt_vocab_size)\n",
        "        self.dropout = nn.Dropout(dropout)\n",
        "\n",
        "    def generate_mask(self, src, tgt):\n",
        "        src_mask = (src != 0).unsqueeze(1).unsqueeze(2)\n",
        "        tgt_mask = (tgt != 0).unsqueeze(1).unsqueeze(3)\n",
        "        seq_length = tgt.size(1)\n",
        "        nopeak_mask = (1 - torch.triu(torch.ones(1, seq_length, seq_length,device=device), diagonal=1)).bool()\n",
        "        tgt_mask = tgt_mask & nopeak_mask\n",
        "        return src_mask, tgt_mask\n",
        "\n",
        "    def forward(self, src, tgt):\n",
        "        src_mask, tgt_mask = self.generate_mask(src, tgt)\n",
        "        src_embedded = self.dropout(self.positional_encoding(self.encoder_embedding(src)))\n",
        "        tgt_embedded = self.dropout(self.positional_encoding(self.decoder_embedding(tgt)))\n",
        "\n",
        "        enc_output = src_embedded\n",
        "        for enc_layer in self.encoder_layers:\n",
        "            enc_output = enc_layer(enc_output, src_mask)\n",
        "\n",
        "        dec_output = tgt_embedded\n",
        "        for dec_layer in self.decoder_layers:\n",
        "            dec_output = dec_layer(dec_output, enc_output, src_mask, tgt_mask)\n",
        "\n",
        "        output = self.fc(dec_output)\n",
        "        return output"
      ],
      "metadata": {
        "execution": {
          "iopub.status.busy": "2024-02-23T10:58:09.85898Z",
          "iopub.execute_input": "2024-02-23T10:58:09.859383Z",
          "iopub.status.idle": "2024-02-23T10:58:09.872597Z",
          "shell.execute_reply.started": "2024-02-23T10:58:09.859351Z",
          "shell.execute_reply": "2024-02-23T10:58:09.871615Z"
        },
        "trusted": true,
        "id": "CBLhziFePO22"
      },
      "execution_count": null,
      "outputs": []
    },
    {
      "cell_type": "code",
      "source": [
        "src_vocab_size = len(source_vocab)\n",
        "tgt_vocab_size = len(target_vocab)\n",
        "d_model = 128\n",
        "num_heads = 2\n",
        "num_layers = 3\n",
        "d_ff = 512\n",
        "max_seq_length = get_maxlen()\n",
        "num_workers = 3\n",
        "num_epochs = 6\n",
        "dropout = 0.4\n",
        "\n",
        "model = Transformer(src_vocab_size, tgt_vocab_size, d_model, num_heads, num_layers, d_ff, max_seq_length, dropout)\n",
        "print(model)"
      ],
      "metadata": {
        "_uuid": "7f7c4295-2263-4b6d-bc6b-f3292eca5f59",
        "_cell_guid": "277eb600-7ff8-4537-9523-f6a0e8d7ac41",
        "jupyter": {
          "outputs_hidden": false
        },
        "execution": {
          "iopub.status.busy": "2024-02-23T10:58:12.530851Z",
          "iopub.execute_input": "2024-02-23T10:58:12.531555Z",
          "iopub.status.idle": "2024-02-23T10:58:13.562244Z",
          "shell.execute_reply.started": "2024-02-23T10:58:12.531522Z",
          "shell.execute_reply": "2024-02-23T10:58:13.561226Z"
        },
        "trusted": true,
        "id": "PDHZY8fePO23",
        "colab": {
          "base_uri": "https://localhost:8080/"
        },
        "outputId": "b44aab12-1adc-4b90-faba-905ff06cd7ce",
        "executionInfo": {
          "status": "ok",
          "timestamp": 1733887378757,
          "user_tz": 300,
          "elapsed": 1579,
          "user": {
            "displayName": "",
            "userId": ""
          }
        }
      },
      "execution_count": null,
      "outputs": [
        {
          "output_type": "stream",
          "name": "stdout",
          "text": [
            "Max length in dataset  1180\n",
            "Transformer(\n",
            "  (encoder_embedding): Embedding(105784, 128)\n",
            "  (decoder_embedding): Embedding(105784, 128)\n",
            "  (positional_encoding): PositionalEncoding()\n",
            "  (encoder_layers): ModuleList(\n",
            "    (0-2): 3 x EncoderLayer(\n",
            "      (self_attn): MultiHeadAttention(\n",
            "        (W_q): Linear(in_features=128, out_features=128, bias=True)\n",
            "        (W_k): Linear(in_features=128, out_features=128, bias=True)\n",
            "        (W_v): Linear(in_features=128, out_features=128, bias=True)\n",
            "        (W_o): Linear(in_features=128, out_features=128, bias=True)\n",
            "      )\n",
            "      (feed_forward): PositionWiseFeedForward(\n",
            "        (fc1): Linear(in_features=128, out_features=512, bias=True)\n",
            "        (fc2): Linear(in_features=512, out_features=128, bias=True)\n",
            "      )\n",
            "      (norm1): LayerNorm((128,), eps=1e-05, elementwise_affine=True)\n",
            "      (norm2): LayerNorm((128,), eps=1e-05, elementwise_affine=True)\n",
            "      (dropout): Dropout(p=0.4, inplace=False)\n",
            "    )\n",
            "  )\n",
            "  (decoder_layers): ModuleList(\n",
            "    (0-2): 3 x DecoderLayer(\n",
            "      (self_attn): MultiHeadAttention(\n",
            "        (W_q): Linear(in_features=128, out_features=128, bias=True)\n",
            "        (W_k): Linear(in_features=128, out_features=128, bias=True)\n",
            "        (W_v): Linear(in_features=128, out_features=128, bias=True)\n",
            "        (W_o): Linear(in_features=128, out_features=128, bias=True)\n",
            "      )\n",
            "      (cross_attn): MultiHeadAttention(\n",
            "        (W_q): Linear(in_features=128, out_features=128, bias=True)\n",
            "        (W_k): Linear(in_features=128, out_features=128, bias=True)\n",
            "        (W_v): Linear(in_features=128, out_features=128, bias=True)\n",
            "        (W_o): Linear(in_features=128, out_features=128, bias=True)\n",
            "      )\n",
            "      (feed_forward): PositionWiseFeedForward(\n",
            "        (fc1): Linear(in_features=128, out_features=512, bias=True)\n",
            "        (fc2): Linear(in_features=512, out_features=128, bias=True)\n",
            "      )\n",
            "      (norm1): LayerNorm((128,), eps=1e-05, elementwise_affine=True)\n",
            "      (norm2): LayerNorm((128,), eps=1e-05, elementwise_affine=True)\n",
            "      (norm3): LayerNorm((128,), eps=1e-05, elementwise_affine=True)\n",
            "      (dropout): Dropout(p=0.4, inplace=False)\n",
            "    )\n",
            "  )\n",
            "  (fc): Linear(in_features=128, out_features=105784, bias=True)\n",
            "  (dropout): Dropout(p=0.4, inplace=False)\n",
            ")\n"
          ]
        }
      ]
    },
    {
      "cell_type": "code",
      "source": [
        "trainable_params = sum(p.numel() for p in model.parameters() if p.requires_grad)\n",
        "print(trainable_params)"
      ],
      "metadata": {
        "_uuid": "61cd290d-00e4-4bc7-849c-547a025553fc",
        "_cell_guid": "35ea08c6-d8d5-4da4-b347-6d5085b93464",
        "jupyter": {
          "outputs_hidden": false
        },
        "execution": {
          "iopub.status.busy": "2024-02-23T10:59:19.573234Z",
          "iopub.execute_input": "2024-02-23T10:59:19.573629Z",
          "iopub.status.idle": "2024-02-23T10:59:19.58087Z",
          "shell.execute_reply.started": "2024-02-23T10:59:19.573597Z",
          "shell.execute_reply": "2024-02-23T10:59:19.579686Z"
        },
        "trusted": true,
        "id": "XR5O_tagPO23",
        "colab": {
          "base_uri": "https://localhost:8080/"
        },
        "outputId": "9b875967-6f1d-4574-912b-b6eb26e0275b",
        "executionInfo": {
          "status": "ok",
          "timestamp": 1733887378758,
          "user_tz": 300,
          "elapsed": 10,
          "user": {
            "displayName": "",
            "userId": ""
          }
        }
      },
      "execution_count": null,
      "outputs": [
        {
          "output_type": "stream",
          "name": "stdout",
          "text": [
            "42115384\n"
          ]
        }
      ]
    },
    {
      "cell_type": "code",
      "source": [
        "criterion = nn.CrossEntropyLoss(ignore_index=0)\n",
        "optimizer = optim.Adam(model.parameters(), lr=0.001, betas=(0.9, 0.98), eps=1e-9)\n",
        "scheduler = torch.optim.lr_scheduler.CosineAnnealingLR(optimizer, T_max=10, eta_min=0)"
      ],
      "metadata": {
        "_uuid": "e96fa9e8-c5be-4cc1-931d-57218cc5cc5a",
        "_cell_guid": "8b1eb0a0-a1ec-4c88-909a-b9f03447e16f",
        "jupyter": {
          "outputs_hidden": false
        },
        "execution": {
          "iopub.status.busy": "2024-02-23T10:59:20.404987Z",
          "iopub.execute_input": "2024-02-23T10:59:20.405925Z",
          "iopub.status.idle": "2024-02-23T10:59:20.413536Z",
          "shell.execute_reply.started": "2024-02-23T10:59:20.405887Z",
          "shell.execute_reply": "2024-02-23T10:59:20.412428Z"
        },
        "trusted": true,
        "id": "YGuURmcSPO23"
      },
      "execution_count": null,
      "outputs": []
    },
    {
      "cell_type": "code",
      "source": [
        "train_loader = DataLoader(train_dataset, batch_size=12, shuffle=True, c_fn=c_fn, num_workers=num_workers)\n",
        "test_loader = DataLoader(test_dataset, batch_size= 12, shuffle=False, c_fn=c_fn, num_workers=num_workers)"
      ],
      "metadata": {
        "_uuid": "feaf3b05-e23a-4335-a2e4-5747cfca4665",
        "_cell_guid": "d2074be6-23b0-42d2-9a57-45d9f58f72fd",
        "jupyter": {
          "outputs_hidden": false
        },
        "execution": {
          "iopub.status.busy": "2024-02-23T10:59:30.931863Z",
          "iopub.execute_input": "2024-02-23T10:59:30.93224Z",
          "iopub.status.idle": "2024-02-23T10:59:30.937903Z",
          "shell.execute_reply.started": "2024-02-23T10:59:30.93221Z",
          "shell.execute_reply": "2024-02-23T10:59:30.93682Z"
        },
        "trusted": true,
        "id": "RBxjfljqPO23"
      },
      "execution_count": null,
      "outputs": []
    },
    {
      "cell_type": "code",
      "source": [
        "source_dummy,target_dummy = next(iter(train_loader))"
      ],
      "metadata": {
        "_uuid": "e6d7609a-1211-4982-9045-5eb2acafe357",
        "_cell_guid": "95b67a6a-93f3-49f6-9c39-9bd2bab10daf",
        "jupyter": {
          "outputs_hidden": false
        },
        "execution": {
          "iopub.status.busy": "2024-02-23T10:59:32.867627Z",
          "iopub.execute_input": "2024-02-23T10:59:32.868054Z",
          "iopub.status.idle": "2024-02-23T10:59:32.969822Z",
          "shell.execute_reply.started": "2024-02-23T10:59:32.867999Z",
          "shell.execute_reply": "2024-02-23T10:59:32.968468Z"
        },
        "trusted": true,
        "id": "FPg_RKjWPO23"
      },
      "execution_count": null,
      "outputs": []
    },
    {
      "cell_type": "code",
      "source": [
        "print(source_dummy.shape,target_dummy.shape)"
      ],
      "metadata": {
        "_uuid": "997ef9b3-127e-4454-9b89-3a6f861bc687",
        "_cell_guid": "0533af63-7e19-4979-8cdc-c2369106ddc6",
        "jupyter": {
          "outputs_hidden": false
        },
        "execution": {
          "iopub.status.busy": "2024-02-23T10:59:36.629985Z",
          "iopub.execute_input": "2024-02-23T10:59:36.63094Z",
          "iopub.status.idle": "2024-02-23T10:59:36.636526Z",
          "shell.execute_reply.started": "2024-02-23T10:59:36.630901Z",
          "shell.execute_reply": "2024-02-23T10:59:36.635461Z"
        },
        "trusted": true,
        "id": "U2-BrVFzPO24",
        "colab": {
          "base_uri": "https://localhost:8080/"
        },
        "outputId": "844d59b8-24ba-4234-9ebb-d0d2fd8bafb5",
        "executionInfo": {
          "status": "ok",
          "timestamp": 1733887385483,
          "user_tz": 300,
          "elapsed": 17,
          "user": {
            "displayName": "",
            "userId": ""
          }
        }
      },
      "execution_count": null,
      "outputs": [
        {
          "output_type": "stream",
          "name": "stdout",
          "text": [
            "torch.Size([12, 608]) torch.Size([12, 43])\n"
          ]
        }
      ]
    },
    {
      "cell_type": "code",
      "source": [
        "print(source_dummy[1])"
      ],
      "metadata": {
        "execution": {
          "iopub.status.busy": "2024-02-23T10:59:38.927218Z",
          "iopub.execute_input": "2024-02-23T10:59:38.927586Z",
          "iopub.status.idle": "2024-02-23T10:59:38.936046Z",
          "shell.execute_reply.started": "2024-02-23T10:59:38.927558Z",
          "shell.execute_reply": "2024-02-23T10:59:38.934908Z"
        },
        "trusted": true,
        "id": "weUNOCEyPO24",
        "colab": {
          "base_uri": "https://localhost:8080/"
        },
        "outputId": "ff1ce6e1-5e00-49b6-ba86-d71d5877ae43",
        "executionInfo": {
          "status": "ok",
          "timestamp": 1733887385483,
          "user_tz": 300,
          "elapsed": 14,
          "user": {
            "displayName": "",
            "userId": ""
          }
        }
      },
      "execution_count": null,
      "outputs": [
        {
          "output_type": "stream",
          "name": "stdout",
          "text": [
            "tensor([     1,   9537,  86862, 101528,  43516,  55076,  21325,  97612, 100303,\n",
            "         83345,  85217,  48450,  15545,  28492,  74148,  54924,  34027,  82096,\n",
            "         87576,  25130,  81899,  15750,  44526,  84315,  77345,   3571,  37595,\n",
            "         43304,  16147,  30711,  52246,  28539,  59307,  47275,  94328, 104624,\n",
            "         28492,  20828,  80582,  81961,  59307,  31499,  94328, 104624,  73783,\n",
            "         98957,  77620,    588,  28491,  89233,  80627,   1768,  66888,  80225,\n",
            "         60597, 100303,  83945,  98957,  64885,  79379,  85262,  84007, 102220,\n",
            "         27100,  59307,  66849,  74585,  79207,  86648,   3809,  56722,  33039,\n",
            "         97262,  12269,  50545,  43489,  67573,  10690,  21750,  40314,   4870,\n",
            "         13855,  97262,  59307,  71139,  58201,  64790,  32916,  72406,  15750,\n",
            "         66849,  56722,  82149, 100303, 102297, 100565,  72784,  66888,  27939,\n",
            "         83757,  91529,  24597,  69195,  46453,  67197,  74148,  36374,  42247,\n",
            "          7390,   2519,  12451,  34027, 100535,  74459,  23285,  74148,  66409,\n",
            "           638,  59307,  23177,  97966,  74459,  61810,  69195,  24423,  84051,\n",
            "        102031,  74148,  89244,  17541,  30711,  95290,  71616,   4352,  76696,\n",
            "         72771,    799,  78677,  66849,  59307,  32936, 100303,  87655,  83757,\n",
            "         28491,  34154,   6024,   3751,  83995,   4915,  59307,  71018,  45870,\n",
            "         24631,  36148,    588,   3809,   1768,  66888,  89953,   6024,  88479,\n",
            "         42247,    119,  39989,  81131,  45872,  34414,  64423,  84051,  59307,\n",
            "         28543,  91526,   2518,  38787, 100303,  85217,  71016,  45872,    588,\n",
            "         78055,  56722, 100303,  24064,  46273,  73738,  68206,  80150,  57780,\n",
            "         97125,  24192,  57536,  97262,  59307,  76190,  17539,  42559,   9914,\n",
            "         69253,  34877,  36128,  85763,  79207,  36904,  52792,  31190,  84051,\n",
            "         77586,  28491,  89682,  52792,  84317,  74459,    839,  99145,  76694,\n",
            "        104624,   4914,  74143,  36148,  59307,  76694, 104624,   1768,  66888,\n",
            "         65485,  28539,  59307,  14989,  45912,  20060,  16169,  23177,  83757,\n",
            "         48530,  87831,  95116,   1768,  86116,  59307,   4915,  87655,  94052,\n",
            "         83704,  97262, 104624,  47275,  51844,  18911,  23177,   4099,  75707,\n",
            "         34428,  59307,  83704,  73722,   4352,  85811,  61807,  16169,  28491,\n",
            "          4915,  59307,  75707,  36148,  64793,  75189,  79379,      0,      0,\n",
            "             0,      0,      0,      0,      0,      0,      0,      0,      0,\n",
            "             0,      0,      0,      0,      0,      0,      0,      0,      0,\n",
            "             0,      0,      0,      0,      0,      0,      0,      0,      0,\n",
            "             0,      0,      0,      0,      0,      0,      0,      0,      0,\n",
            "             0,      0,      0,      0,      0,      0,      0,      0,      0,\n",
            "             0,      0,      0,      0,      0,      0,      0,      0,      0,\n",
            "             0,      0,      0,      0,      0,      0,      0,      0,      0,\n",
            "             0,      0,      0,      0,      0,      0,      0,      0,      0,\n",
            "             0,      0,      0,      0,      0,      0,      0,      0,      0,\n",
            "             0,      0,      0,      0,      0,      0,      0,      0,      0,\n",
            "             0,      0,      0,      0,      0,      0,      0,      0,      0,\n",
            "             0,      0,      0,      0,      0,      0,      0,      0,      0,\n",
            "             0,      0,      0,      0,      0,      0,      0,      0,      0,\n",
            "             0,      0,      0,      0,      0,      0,      0,      0,      0,\n",
            "             0,      0,      0,      0,      0,      0,      0,      0,      0,\n",
            "             0,      0,      0,      0,      0,      0,      0,      0,      0,\n",
            "             0,      0,      0,      0,      0,      0,      0,      0,      0,\n",
            "             0,      0,      0,      0,      0,      0,      0,      0,      0,\n",
            "             0,      0,      0,      0,      0,      0,      0,      0,      0,\n",
            "             0,      0,      0,      0,      0,      0,      0,      0,      0,\n",
            "             0,      0,      0,      0,      0,      0,      0,      0,      0,\n",
            "             0,      0,      0,      0,      0,      0,      0,      0,      0,\n",
            "             0,      0,      0,      0,      0,      0,      0,      0,      0,\n",
            "             0,      0,      0,      0,      0,      0,      0,      0,      0,\n",
            "             0,      0,      0,      0,      0,      0,      0,      0,      0,\n",
            "             0,      0,      0,      0,      0,      0,      0,      0,      0,\n",
            "             0,      0,      0,      0,      0,      0,      0,      0,      0,\n",
            "             0,      0,      0,      0,      0,      0,      0,      0,      0,\n",
            "             0,      0,      0,      0,      0,      0,      0,      0,      0,\n",
            "             0,      0,      0,      0,      0,      0,      0,      0,      0,\n",
            "             0,      0,      0,      0,      0,      0,      0,      0,      0,\n",
            "             0,      0,      0,      0,      0,      0,      0,      0,      0,\n",
            "             0,      0,      0,      0,      0,      0,      0,      0,      0,\n",
            "             0,      0,      0,      0,      0,      0,      0,      0,      0,\n",
            "             0,      0,      0,      0,      0,      0,      0,      0,      0,\n",
            "             0,      0,      0,      0,      0,      0,      0,      0,      0,\n",
            "             0,      0,      0,      0,      0,      0,      0,      0,      0,\n",
            "             0,      0,      0,      0,      0])\n"
          ]
        }
      ]
    },
    {
      "cell_type": "code",
      "source": [
        "print(torch.min(target_dummy),torch.max(target_dummy))"
      ],
      "metadata": {
        "execution": {
          "iopub.status.busy": "2024-02-23T10:59:44.040794Z",
          "iopub.execute_input": "2024-02-23T10:59:44.041208Z",
          "iopub.status.idle": "2024-02-23T10:59:44.048901Z",
          "shell.execute_reply.started": "2024-02-23T10:59:44.041177Z",
          "shell.execute_reply": "2024-02-23T10:59:44.04787Z"
        },
        "trusted": true,
        "id": "NGZSEogcPO24",
        "colab": {
          "base_uri": "https://localhost:8080/"
        },
        "outputId": "bc894223-ef86-4184-870d-aa4347643f30",
        "executionInfo": {
          "status": "ok",
          "timestamp": 1733887385483,
          "user_tz": 300,
          "elapsed": 11,
          "user": {
            "displayName": "",
            "userId": ""
          }
        }
      },
      "execution_count": null,
      "outputs": [
        {
          "output_type": "stream",
          "name": "stdout",
          "text": [
            "tensor(0) tensor(104919)\n"
          ]
        }
      ]
    },
    {
      "cell_type": "code",
      "source": [
        "model.to(device)\n",
        "source_dummy = source_dummy.to(device)\n",
        "target_dummy = target_dummy.to(device)\n",
        "print()"
      ],
      "metadata": {
        "execution": {
          "iopub.status.busy": "2024-02-23T11:00:30.002098Z",
          "iopub.execute_input": "2024-02-23T11:00:30.002513Z",
          "iopub.status.idle": "2024-02-23T11:00:30.013579Z",
          "shell.execute_reply.started": "2024-02-23T11:00:30.002481Z",
          "shell.execute_reply": "2024-02-23T11:00:30.012584Z"
        },
        "trusted": true,
        "id": "6b7ajMSTPO24",
        "colab": {
          "base_uri": "https://localhost:8080/"
        },
        "outputId": "118265fd-f19f-4562-b214-046845ac4a96",
        "executionInfo": {
          "status": "ok",
          "timestamp": 1733887385483,
          "user_tz": 300,
          "elapsed": 8,
          "user": {
            "displayName": "",
            "userId": ""
          }
        }
      },
      "execution_count": null,
      "outputs": [
        {
          "output_type": "stream",
          "name": "stdout",
          "text": [
            "\n"
          ]
        }
      ]
    },
    {
      "cell_type": "code",
      "source": [
        "y_pred = model(source_dummy,target_dummy)\n",
        "print(y_pred.shape,target_dummy.shape)"
      ],
      "metadata": {
        "_uuid": "72e12e35-d2b8-4b26-bab0-bae78e8cb7ad",
        "_cell_guid": "8a03d1e5-dca4-485b-9240-c4195be82280",
        "jupyter": {
          "outputs_hidden": false
        },
        "execution": {
          "iopub.status.busy": "2024-02-23T11:00:30.985075Z",
          "iopub.execute_input": "2024-02-23T11:00:30.98594Z",
          "iopub.status.idle": "2024-02-23T11:00:31.317911Z",
          "shell.execute_reply.started": "2024-02-23T11:00:30.985905Z",
          "shell.execute_reply": "2024-02-23T11:00:31.316968Z"
        },
        "trusted": true,
        "id": "K9o_SF1oPO24",
        "colab": {
          "base_uri": "https://localhost:8080/"
        },
        "executionInfo": {
          "status": "ok",
          "timestamp": 1733887386506,
          "user_tz": 300,
          "elapsed": 1029,
          "user": {
            "displayName": "",
            "userId": ""
          }
        },
        "outputId": "ab9c3b3e-0ff5-4394-948a-b97784ca53f1"
      },
      "execution_count": null,
      "outputs": [
        {
          "output_type": "stream",
          "name": "stdout",
          "text": [
            "torch.Size([12, 43, 105784]) torch.Size([12, 43])\n"
          ]
        }
      ]
    },
    {
      "cell_type": "code",
      "source": [
        "y_pred = y_pred.reshape(-1,len(target_vocab))\n",
        "target_dummy = target_dummy.reshape(-1)\n",
        "print(y_pred.shape,target_dummy.shape)"
      ],
      "metadata": {
        "execution": {
          "iopub.status.busy": "2024-02-23T11:00:37.321372Z",
          "iopub.execute_input": "2024-02-23T11:00:37.321802Z",
          "iopub.status.idle": "2024-02-23T11:00:37.328394Z",
          "shell.execute_reply.started": "2024-02-23T11:00:37.321751Z",
          "shell.execute_reply": "2024-02-23T11:00:37.327349Z"
        },
        "trusted": true,
        "id": "eIQ4ZbG-PO25",
        "colab": {
          "base_uri": "https://localhost:8080/"
        },
        "executionInfo": {
          "status": "ok",
          "timestamp": 1733887386506,
          "user_tz": 300,
          "elapsed": 10,
          "user": {
            "displayName": "",
            "userId": ""
          }
        },
        "outputId": "74c3a3c9-6b97-40ef-8047-298c847f88c1"
      },
      "execution_count": null,
      "outputs": [
        {
          "output_type": "stream",
          "name": "stdout",
          "text": [
            "torch.Size([516, 105784]) torch.Size([516])\n"
          ]
        }
      ]
    },
    {
      "cell_type": "markdown",
      "source": [
        "# Model Training"
      ],
      "metadata": {
        "id": "GvQJSlvgvrvH"
      }
    },
    {
      "cell_type": "code",
      "source": [
        "def check_accuracy(y_pred, y):\n",
        "    predicted_labels = torch.argmax(y_pred, dim=1)\n",
        "    correct = (predicted_labels == y).float()\n",
        "    accuracy = correct.mean()\n",
        "    return accuracy\n",
        "\n",
        "def save_checkpoint(checkpoint, filename='checkpoint.pth.tar'):\n",
        "    torch.save(checkpoint, filename)\n",
        "    print(f\"Checkpoint saved to {filename}\")"
      ],
      "metadata": {
        "id": "c8frRIP2VN4N"
      },
      "execution_count": null,
      "outputs": []
    },
    {
      "cell_type": "code",
      "source": [
        "import matplotlib.pyplot as plt\n",
        "e_loss = []\n",
        "e_accuracy = []\n",
        "\n",
        "def train_loop(model,dataloader,loss_fun,optimizer,device):\n",
        "    model.train()\n",
        "    model.to(device)\n",
        "    min_loss = None\n",
        "\n",
        "    for epoch in range(num_epochs):\n",
        "        losses = []\n",
        "        accuracies = []\n",
        "        loop = tqdm(enumerate(dataloader), total=len(dataloader), leave=True)\n",
        "        for batch,(x,y) in loop:\n",
        "            x = x.to(device)\n",
        "            y = y.to(device)\n",
        "\n",
        "            y_pred = model(x,y)\n",
        "\n",
        "            loss = loss_fun(y_pred.reshape(-1,len(target_vocab)),y.reshape(-1))\n",
        "            losses.append(loss.detach().item())\n",
        "\n",
        "            accuracy = check_accuracy(y_pred.reshape(-1,len(target_vocab)),y.reshape(-1))\n",
        "            accuracies.append(accuracy.detach().item())\n",
        "\n",
        "            optimizer.zero_grad()\n",
        "\n",
        "            loss.backward()\n",
        "\n",
        "            optimizer.step()\n",
        "            scheduler.step()\n",
        "\n",
        "            loop.set_description(f\"Epoch [{epoch}/{num_epochs}] \")\n",
        "            loop.set_postfix(loss=loss.detach().item(), accuracy=accuracy.detach().item())\n",
        "\n",
        "        moving_loss = sum(losses) / len(losses)\n",
        "        moving_accuracy = sum(accuracies) / len(accuracies)\n",
        "\n",
        "        e_accuracy.append(moving_accuracy)\n",
        "        e_loss.append(moving_loss)\n",
        "        checkpoint = {'state_dict': model.state_dict(), 'optimizer': optimizer.state_dict()}\n",
        "        if min_loss == None:\n",
        "            min_loss = moving_loss\n",
        "            save_checkpoint(checkpoint)\n",
        "        elif moving_loss < min_loss:\n",
        "            min_loss = moving_loss\n",
        "            save_checkpoint(checkpoint)\n",
        "        print('Epoch {0} : Loss = {1} , Training Accuracy={2}'.format(epoch, moving_loss, moving_accuracy))"
      ],
      "metadata": {
        "_uuid": "f1e3fed7-78bd-4512-b670-7542eab6abad",
        "_cell_guid": "7400fc0b-dbe2-4935-9e5a-dcab47e23275",
        "jupyter": {
          "outputs_hidden": false
        },
        "execution": {
          "iopub.status.busy": "2024-02-23T11:00:41.986927Z",
          "iopub.execute_input": "2024-02-23T11:00:41.987318Z",
          "iopub.status.idle": "2024-02-23T11:00:41.999142Z",
          "shell.execute_reply.started": "2024-02-23T11:00:41.98729Z",
          "shell.execute_reply": "2024-02-23T11:00:41.998195Z"
        },
        "trusted": true,
        "id": "i6hlrx1KPO25"
      },
      "execution_count": null,
      "outputs": []
    },
    {
      "cell_type": "code",
      "source": [
        "transformer = train_loop(model,train_loader,criterion,optimizer,device)\n",
        "\n",
        "plt.figure(figsize=(10, 5))\n",
        "plt.plot(range(1, num_epochs + 1), e_loss, label='Loss')\n",
        "plt.xlabel('Epochs')\n",
        "plt.ylabel('Loss')\n",
        "plt.title('Training Loss Over Epochs')\n",
        "plt.legend()\n",
        "plt.show()\n",
        "\n",
        "plt.figure(figsize=(10, 5))\n",
        "plt.plot(range(1, num_epochs + 1), e_accuracy, label='Loss')\n",
        "plt.xlabel('Epochs')\n",
        "plt.ylabel('Loss')\n",
        "plt.title('Training Loss Over Epochs')\n",
        "plt.legend()\n",
        "plt.show()"
      ],
      "metadata": {
        "_uuid": "3d0cdde5-7cf9-4b33-befc-62b2f9da463b",
        "_cell_guid": "d133f546-0ae6-416c-8b66-9527fe6bc73b",
        "jupyter": {
          "outputs_hidden": false
        },
        "execution": {
          "iopub.status.busy": "2024-02-23T11:00:43.749192Z",
          "iopub.execute_input": "2024-02-23T11:00:43.749575Z",
          "iopub.status.idle": "2024-02-23T11:16:51.435842Z",
          "shell.execute_reply.started": "2024-02-23T11:00:43.749545Z",
          "shell.execute_reply": "2024-02-23T11:16:51.434412Z"
        },
        "trusted": true,
        "id": "uSEaHFoRPO25",
        "colab": {
          "base_uri": "https://localhost:8080/",
          "height": 1000
        },
        "outputId": "e08ab198-27b6-4f24-e5aa-3d7da350e78d",
        "executionInfo": {
          "status": "ok",
          "timestamp": 1733887387525,
          "user_tz": 300,
          "elapsed": 1025,
          "user": {
            "displayName": "",
            "userId": ""
          }
        }
      },
      "execution_count": null,
      "outputs": [
        {
          "output_type": "stream",
          "name": "stdout",
          "text": [
            "Epoch 1/10 [##------------------] - 2769.21s - train_acc: 0.2913 - val_acc: 0.2752 - train_loss: 1.9506 - val_loss: 1.7532\n",
            "Epoch 2/10 [####----------------] - 2850.92s - train_acc: 0.3656 - val_acc: 0.3275 - train_loss: 1.9006 - val_loss: 1.6794\n",
            "Epoch 3/10 [######--------------] - 2765.45s - train_acc: 0.4146 - val_acc: 0.3922 - train_loss: 1.7968 - val_loss: 1.6096\n",
            "Epoch 4/10 [########------------] - 2955.60s - train_acc: 0.4659 - val_acc: 0.4630 - train_loss: 1.6461 - val_loss: 1.5714\n",
            "Epoch 5/10 [##########----------] - 2739.90s - train_acc: 0.5384 - val_acc: 0.5143 - train_loss: 1.5371 - val_loss: 1.4030\n",
            "Epoch 6/10 [############--------] - 2917.08s - train_acc: 0.5836 - val_acc: 0.5720 - train_loss: 1.4337 - val_loss: 1.3244\n",
            "Epoch 7/10 [##############------] - 2758.68s - train_acc: 0.6443 - val_acc: 0.6183 - train_loss: 1.2457 - val_loss: 1.2352\n",
            "Epoch 8/10 [################----] - 2732.89s - train_acc: 0.7056 - val_acc: 0.6841 - train_loss: 1.1708 - val_loss: 1.1544\n",
            "Epoch 9/10 [##################--] - 2861.59s - train_acc: 0.7604 - val_acc: 0.7441 - train_loss: 1.0377 - val_loss: 1.0505\n",
            "Epoch 10/10 [####################] - 2992.40s - train_acc: 0.8199 - val_acc: 0.8041 - train_loss: 0.9237 - val_loss: 1.0121\n"
          ]
        },
        {
          "output_type": "display_data",
          "data": {
            "text/plain": [
              "<Figure size 800x500 with 1 Axes>"
            ],
            "image/png": "[encoded data removed]"
          },
          "metadata": {}
        },
        {
          "output_type": "display_data",
          "data": {
            "text/plain": [
              "<Figure size 800x500 with 1 Axes>"
            ],
            "image/png": "[encoded data removed]"
          },
          "metadata": {}
        }
      ]
    }
  ]
}